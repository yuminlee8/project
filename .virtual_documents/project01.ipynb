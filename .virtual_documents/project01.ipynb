


import os
import matplotlib.pyplot as plt
import numpy as np
import seaborn as sns
import pandas as pd

from sklearn.metrics import mean_absolute_percentage_error
from sklearn.preprocessing import MinMaxScaler, StandardScaler
from sklearn.linear_model import LinearRegression
from sklearn.ensemble import RandomForestRegressor, RandomForestClassifier
from sklearn.preprocessing import OneHotEncoder
from sklearn.svm import SVR


!pip install -q kaggle
!pip install xgboost
!pip install lightgbm


os.environ['KAGGLE_USERNAME'] = "yuminlee72"
os.environ['KAGGLE_KEY'] = "1e586eaad50541a8cc03a63cf720dc79"


!kaggle competitions download -c jigsaw-agile-community-rules


!ls -alh


!unzip -l jigsaw-agile-community-rules.zip


# 새 폴더 만들기 / -p: 중간 경로가 없어도 부모 폴더까지 같이 생성 (이미 있어도 에러 없이 넘어감)
!mkdir -p data/jigsaw_agile

# 압축 풀기 / -q: 조용히 진행, -o(overwrite): 같은 이름의 파일이 있어도 덮어씀
# -d: 풀린 파일을 저장할 목적지 폴더 지정
!unzip -q -o jigsaw-agile-community-rules.zip -d data/jigsaw_agile

# 폴더 내용 보기 / -a: 숨김 파일까지 모두 표시, -l: 자세히 표시, -h: 파일을 KB/MB 단위로 표시
!ls -alh data/jigsaw_agile


train_df = pd.read_csv('data/jigsaw_agile/train.csv')
test_df = pd.read_csv('data/jigsaw_agile/test.csv')

train_df.head()






