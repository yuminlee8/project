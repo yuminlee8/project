{
 "cells": [
  {
   "cell_type": "markdown",
   "id": "c35819f5-6319-4ad1-bb6a-49010ca2efd3",
   "metadata": {},
   "source": [
    "## Reddit 댓글 규칙 위반 여부 분류"
   ]
  },
  {
   "cell_type": "code",
   "execution_count": null,
   "id": "431b09d9-7471-4ddb-9dbc-b36aa188b3fb",
   "metadata": {},
   "outputs": [],
   "source": [
    "import os\n",
    "import matplotlib.pyplot as plt\n",
    "import numpy as np\n",
    "import seaborn as sns\n",
    "import pandas as pd\n",
    "\n",
    "from sklearn.metrics import mean_absolute_percentage_error\n",
    "from sklearn.preprocessing import MinMaxScaler, StandardScaler\n",
    "from sklearn.linear_model import LinearRegression\n",
    "from sklearn.ensemble import RandomForestRegressor, RandomForestClassifier\n",
    "from sklearn.preprocessing import OneHotEncoder\n",
    "from sklearn.svm import SVR"
   ]
  },
  {
   "cell_type": "code",
   "execution_count": null,
   "id": "6ea4f391-625a-48af-a370-0988b4d60fd7",
   "metadata": {},
   "outputs": [],
   "source": [
    "!pip install -q kaggle\n",
    "!pip install xgboost\n",
    "!pip install lightgbm"
   ]
  },
  {
   "cell_type": "code",
   "execution_count": null,
   "id": "4b491397-7b07-40f0-9fce-746669c94056",
   "metadata": {},
   "outputs": [],
   "source": [
    "!kaggle competitions download -c jigsaw-agile-community-rules"
   ]
  },
  {
   "cell_type": "code",
   "execution_count": null,
   "id": "f63c9eb4-98cd-453d-a255-c273e760f5fe",
   "metadata": {},
   "outputs": [],
   "source": [
    "!ls -alh"
   ]
  },
  {
   "cell_type": "code",
   "execution_count": null,
   "id": "91c46b56-421b-48d2-bf71-bf374b65ffd5",
   "metadata": {},
   "outputs": [],
   "source": [
    "!unzip -l jigsaw-agile-community-rules.zip"
   ]
  },
  {
   "cell_type": "code",
   "execution_count": null,
   "id": "bbee809a-bdfa-4d71-b6e2-e06786883649",
   "metadata": {},
   "outputs": [],
   "source": [
    "# 새 폴더 만들기 / -p: 중간 경로가 없어도 부모 폴더까지 같이 생성 (이미 있어도 에러 없이 넘어감)\n",
    "!mkdir -p data/jigsaw_agile\n",
    "\n",
    "# 압축 풀기 / -q: 조용히 진행, -o(overwrite): 같은 이름의 파일이 있어도 덮어씀\n",
    "# -d: 풀린 파일을 저장할 목적지 폴더 지정\n",
    "!unzip -q -o jigsaw-agile-community-rules.zip -d data/jigsaw_agile\n",
    "\n",
    "# 폴더 내용 보기 / -a: 숨김 파일까지 모두 표시, -l: 자세히 표시, -h: 파일을 KB/MB 단위로 표시\n",
    "!ls -alh data/jigsaw_agile"
   ]
  },
  {
   "cell_type": "code",
   "execution_count": null,
   "id": "0665033d-a592-4e98-a212-3c35c94ed3db",
   "metadata": {},
   "outputs": [],
   "source": [
    "train_df = pd.read_csv('data/jigsaw_agile/train.csv')\n",
    "test_df = pd.read_csv('data/jigsaw_agile/test.csv')\n",
    "\n",
    "train_df.head()"
   ]
  },
  {
   "cell_type": "code",
   "execution_count": null,
   "id": "9a549074-767f-4368-b188-7bad9da0d2f6",
   "metadata": {},
   "outputs": [],
   "source": []
  },
  {
   "cell_type": "code",
   "execution_count": null,
   "id": "86487bb1-359d-4bf3-ac17-d6e3481c4d62",
   "metadata": {},
   "outputs": [],
   "source": []
  }
 ],
 "metadata": {
  "kernelspec": {
   "display_name": "Python [conda env:base] *",
   "language": "python",
   "name": "conda-base-py"
  },
  "language_info": {
   "codemirror_mode": {
    "name": "ipython",
    "version": 3
   },
   "file_extension": ".py",
   "mimetype": "text/x-python",
   "name": "python",
   "nbconvert_exporter": "python",
   "pygments_lexer": "ipython3",
   "version": "3.12.7"
  }
 },
 "nbformat": 4,
 "nbformat_minor": 5
}
