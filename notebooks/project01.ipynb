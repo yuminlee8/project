{
 "cells": [
  {
   "cell_type": "markdown",
   "id": "c35819f5-6319-4ad1-bb6a-49010ca2efd3",
   "metadata": {},
   "source": [
    "# Reddit 댓글 규칙 위반 여부 분류"
   ]
  },
  {
   "cell_type": "markdown",
   "id": "329a26a6-5f7a-4c32-b05f-5ba6a35193a9",
   "metadata": {},
   "source": [
    "## 1. Import Library"
   ]
  },
  {
   "cell_type": "code",
   "execution_count": 1,
   "id": "4e2fd44f-917c-4a2c-9968-3e43706f567f",
   "metadata": {},
   "outputs": [],
   "source": [
    "import os"
   ]
  },
  {
   "cell_type": "code",
   "execution_count": 2,
   "id": "ee3434f8-3979-4542-a2a6-30cd7d97ae89",
   "metadata": {},
   "outputs": [],
   "source": [
    "SSD_PATH = '/Volumes/PortableSSD'\n",
    "PROJECT_PATH = f'{SSD_PATH}/Projects/kaggle-project'\n",
    "RESULTS_PATH = f'{SSD_PATH}/Projects/results'\n",
    "MODELS_PATH = f'{SSD_PATH}/Projects/models'"
   ]
  },
  {
   "cell_type": "code",
   "execution_count": 3,
   "id": "053f2139-6740-4d2f-a201-4792ab4bffb3",
   "metadata": {},
   "outputs": [],
   "source": [
    "os.makedirs(RESULTS_PATH, exist_ok=True)\n",
    "os.makedirs(MODELS_PATH, exist_ok=True)"
   ]
  },
  {
   "cell_type": "code",
   "execution_count": 4,
   "id": "431b09d9-7471-4ddb-9dbc-b36aa188b3fb",
   "metadata": {},
   "outputs": [],
   "source": [
    "import re\n",
    "import matplotlib.pyplot as plt\n",
    "import numpy as np\n",
    "import seaborn as sns\n",
    "import pandas as pd\n",
    "import torch\n",
    "from transformers import (\n",
    "    pipeline,\n",
    "    AutoTokenizer,\n",
    "    AutoModelForSequenceClassification,\n",
    "    Trainer,\n",
    "    TrainingArguments,\n",
    "    DataCollatorWithPadding\n",
    ")\n",
    "from datasets import Dataset\n",
    "\n",
    "from sklearn.metrics import accuracy_score, roc_auc_score, f1_score, average_precision_score\n",
    "from sklearn.model_selection import train_test_split\n",
    "from sklearn.feature_extraction.text import TfidfVectorizer"
   ]
  },
  {
   "cell_type": "markdown",
   "id": "96c6badc-c320-4884-b839-496f7c42f7d3",
   "metadata": {},
   "source": [
    "## 2. Load Data"
   ]
  },
  {
   "cell_type": "code",
   "execution_count": 6,
   "id": "0665033d-a592-4e98-a212-3c35c94ed3db",
   "metadata": {},
   "outputs": [
    {
     "name": "stdout",
     "output_type": "stream",
     "text": [
      "Train shape: (2029, 9)\n",
      "Test shape: (10, 8)\n"
     ]
    }
   ],
   "source": [
    "# 데이터 로드\n",
    "train_df = pd.read_csv('../data/jigsaw_agile/train.csv')\n",
    "test_df = pd.read_csv('../data/jigsaw_agile/test.csv')\n",
    "\n",
    "# 데이터 크기 확인\n",
    "print(f\"Train shape: {train_df.shape}\")\n",
    "print(f\"Test shape: {test_df.shape}\")"
   ]
  },
  {
   "cell_type": "code",
   "execution_count": 7,
   "id": "9a549074-767f-4368-b188-7bad9da0d2f6",
   "metadata": {},
   "outputs": [
    {
     "name": "stdout",
     "output_type": "stream",
     "text": [
      "<class 'pandas.core.frame.DataFrame'>\n",
      "RangeIndex: 2029 entries, 0 to 2028\n",
      "Data columns (total 9 columns):\n",
      " #   Column              Non-Null Count  Dtype \n",
      "---  ------              --------------  ----- \n",
      " 0   row_id              2029 non-null   int64 \n",
      " 1   body                2029 non-null   object\n",
      " 2   rule                2029 non-null   object\n",
      " 3   subreddit           2029 non-null   object\n",
      " 4   positive_example_1  2029 non-null   object\n",
      " 5   positive_example_2  2029 non-null   object\n",
      " 6   negative_example_1  2029 non-null   object\n",
      " 7   negative_example_2  2029 non-null   object\n",
      " 8   rule_violation      2029 non-null   int64 \n",
      "dtypes: int64(2), object(7)\n",
      "memory usage: 142.8+ KB\n"
     ]
    }
   ],
   "source": [
    "train_df.info()"
   ]
  },
  {
   "cell_type": "code",
   "execution_count": 8,
   "id": "82e41a43-7d9c-46d9-8741-dd42c15bf1a3",
   "metadata": {},
   "outputs": [
    {
     "data": {
      "text/html": [
       "<div>\n",
       "<style scoped>\n",
       "    .dataframe tbody tr th:only-of-type {\n",
       "        vertical-align: middle;\n",
       "    }\n",
       "\n",
       "    .dataframe tbody tr th {\n",
       "        vertical-align: top;\n",
       "    }\n",
       "\n",
       "    .dataframe thead th {\n",
       "        text-align: right;\n",
       "    }\n",
       "</style>\n",
       "<table border=\"1\" class=\"dataframe\">\n",
       "  <thead>\n",
       "    <tr style=\"text-align: right;\">\n",
       "      <th></th>\n",
       "      <th>row_id</th>\n",
       "      <th>body</th>\n",
       "      <th>rule</th>\n",
       "      <th>subreddit</th>\n",
       "      <th>positive_example_1</th>\n",
       "      <th>positive_example_2</th>\n",
       "      <th>negative_example_1</th>\n",
       "      <th>negative_example_2</th>\n",
       "      <th>rule_violation</th>\n",
       "    </tr>\n",
       "  </thead>\n",
       "  <tbody>\n",
       "    <tr>\n",
       "      <th>0</th>\n",
       "      <td>0</td>\n",
       "      <td>Banks don't want you to know this! Click here ...</td>\n",
       "      <td>No Advertising: Spam, referral links, unsolici...</td>\n",
       "      <td>Futurology</td>\n",
       "      <td>If you could tell your younger self something ...</td>\n",
       "      <td>hunt for lady for jack off in neighbourhood ht...</td>\n",
       "      <td>Watch Golden Globe Awards 2017 Live Online in ...</td>\n",
       "      <td>DOUBLE CEE x BANDS EPPS - \"BIRDS\"\\n\\nDOWNLOAD/...</td>\n",
       "      <td>0</td>\n",
       "    </tr>\n",
       "    <tr>\n",
       "      <th>1</th>\n",
       "      <td>1</td>\n",
       "      <td>SD Stream [ ENG Link 1] (http://www.sportsstre...</td>\n",
       "      <td>No Advertising: Spam, referral links, unsolici...</td>\n",
       "      <td>soccerstreams</td>\n",
       "      <td>[I wanna kiss you all over! Stunning!](http://...</td>\n",
       "      <td>LOLGA.COM is One of the First Professional Onl...</td>\n",
       "      <td>#Rapper \\n🚨Straight Outta Cross Keys SC 🚨YouTu...</td>\n",
       "      <td>[15 Amazing Hidden Features Of Google Search Y...</td>\n",
       "      <td>0</td>\n",
       "    </tr>\n",
       "    <tr>\n",
       "      <th>2</th>\n",
       "      <td>2</td>\n",
       "      <td>Lol. Try appealing the ban and say you won't d...</td>\n",
       "      <td>No legal advice: Do not offer or request legal...</td>\n",
       "      <td>pcmasterrace</td>\n",
       "      <td>Don't break up with him or call the cops.  If ...</td>\n",
       "      <td>It'll be dismissed: https://en.wikipedia.org/w...</td>\n",
       "      <td>Where is there a site that still works where y...</td>\n",
       "      <td>Because this statement of his is true. It isn'...</td>\n",
       "      <td>1</td>\n",
       "    </tr>\n",
       "    <tr>\n",
       "      <th>3</th>\n",
       "      <td>3</td>\n",
       "      <td>she will come your home open her legs with  an...</td>\n",
       "      <td>No Advertising: Spam, referral links, unsolici...</td>\n",
       "      <td>sex</td>\n",
       "      <td>Selling Tyrande codes for 3€ to paypal. PM. \\n...</td>\n",
       "      <td>tight pussy watch for your cock get her at thi...</td>\n",
       "      <td>NSFW(obviously) http://spankbang.com/iy3u/vide...</td>\n",
       "      <td>Good News ::Download WhatsApp 2.16.230 APK for...</td>\n",
       "      <td>1</td>\n",
       "    </tr>\n",
       "    <tr>\n",
       "      <th>4</th>\n",
       "      <td>4</td>\n",
       "      <td>code free tyrande ---&gt;&gt;&gt; [Imgur](http://i.imgu...</td>\n",
       "      <td>No Advertising: Spam, referral links, unsolici...</td>\n",
       "      <td>hearthstone</td>\n",
       "      <td>wow!! amazing reminds me of the old days.Well...</td>\n",
       "      <td>seek for lady for sex in around http://p77.pl/...</td>\n",
       "      <td>must be watch movie https://sites.google.com/s...</td>\n",
       "      <td>We're streaming Pokemon Veitnamese Crystal RIG...</td>\n",
       "      <td>1</td>\n",
       "    </tr>\n",
       "  </tbody>\n",
       "</table>\n",
       "</div>"
      ],
      "text/plain": [
       "   row_id                                               body  \\\n",
       "0       0  Banks don't want you to know this! Click here ...   \n",
       "1       1  SD Stream [ ENG Link 1] (http://www.sportsstre...   \n",
       "2       2  Lol. Try appealing the ban and say you won't d...   \n",
       "3       3  she will come your home open her legs with  an...   \n",
       "4       4  code free tyrande --->>> [Imgur](http://i.imgu...   \n",
       "\n",
       "                                                rule      subreddit  \\\n",
       "0  No Advertising: Spam, referral links, unsolici...     Futurology   \n",
       "1  No Advertising: Spam, referral links, unsolici...  soccerstreams   \n",
       "2  No legal advice: Do not offer or request legal...   pcmasterrace   \n",
       "3  No Advertising: Spam, referral links, unsolici...            sex   \n",
       "4  No Advertising: Spam, referral links, unsolici...    hearthstone   \n",
       "\n",
       "                                  positive_example_1  \\\n",
       "0  If you could tell your younger self something ...   \n",
       "1  [I wanna kiss you all over! Stunning!](http://...   \n",
       "2  Don't break up with him or call the cops.  If ...   \n",
       "3  Selling Tyrande codes for 3€ to paypal. PM. \\n...   \n",
       "4   wow!! amazing reminds me of the old days.Well...   \n",
       "\n",
       "                                  positive_example_2  \\\n",
       "0  hunt for lady for jack off in neighbourhood ht...   \n",
       "1  LOLGA.COM is One of the First Professional Onl...   \n",
       "2  It'll be dismissed: https://en.wikipedia.org/w...   \n",
       "3  tight pussy watch for your cock get her at thi...   \n",
       "4  seek for lady for sex in around http://p77.pl/...   \n",
       "\n",
       "                                  negative_example_1  \\\n",
       "0  Watch Golden Globe Awards 2017 Live Online in ...   \n",
       "1  #Rapper \\n🚨Straight Outta Cross Keys SC 🚨YouTu...   \n",
       "2  Where is there a site that still works where y...   \n",
       "3  NSFW(obviously) http://spankbang.com/iy3u/vide...   \n",
       "4  must be watch movie https://sites.google.com/s...   \n",
       "\n",
       "                                  negative_example_2  rule_violation  \n",
       "0  DOUBLE CEE x BANDS EPPS - \"BIRDS\"\\n\\nDOWNLOAD/...               0  \n",
       "1  [15 Amazing Hidden Features Of Google Search Y...               0  \n",
       "2  Because this statement of his is true. It isn'...               1  \n",
       "3  Good News ::Download WhatsApp 2.16.230 APK for...               1  \n",
       "4  We're streaming Pokemon Veitnamese Crystal RIG...               1  "
      ]
     },
     "execution_count": 8,
     "metadata": {},
     "output_type": "execute_result"
    }
   ],
   "source": [
    "train_df.head()"
   ]
  },
  {
   "cell_type": "code",
   "execution_count": 9,
   "id": "747a6fd3-04c1-4930-a099-5acf27d70c8a",
   "metadata": {},
   "outputs": [
    {
     "data": {
      "text/plain": [
       "rule_violation\n",
       "1    1031\n",
       "0     998\n",
       "Name: count, dtype: int64"
      ]
     },
     "execution_count": 9,
     "metadata": {},
     "output_type": "execute_result"
    }
   ],
   "source": [
    "# 클래스 불균형 확인\n",
    "train_df[\"rule_violation\"].value_counts()"
   ]
  },
  {
   "cell_type": "markdown",
   "id": "592f815b-bac9-41b9-8265-da630b32ce85",
   "metadata": {},
   "source": [
    "## 3. Data Preprocessing"
   ]
  },
  {
   "cell_type": "code",
   "execution_count": 10,
   "id": "414aedfd-b402-45a6-94bb-d11cffc97b6f",
   "metadata": {},
   "outputs": [],
   "source": [
    "def preprocess_text(text):\n",
    "    # 소문자로 통일\n",
    "    text = str(text).lower()\n",
    "\n",
    "    # url이 포함된 경우 [URL] 토큰으로 치환\n",
    "    text = re.sub(r'http\\S+|www\\S+', '[URL]', text)\n",
    "\n",
    "    # 특수문자 제거\n",
    "    text = re.sub(r'[^\\w\\s[\\]]', '', text)\n",
    "\n",
    "    # 공백 제거\n",
    "    text = ' '.join(text.split())\n",
    "    return text"
   ]
  },
  {
   "cell_type": "code",
   "execution_count": 11,
   "id": "815aae5e-c67f-40d8-aef2-4754f23a8b87",
   "metadata": {},
   "outputs": [
    {
     "name": "stdout",
     "output_type": "stream",
     "text": [
      "Processed data sample: banks dont want you to know this click here to know more [RULE] no advertising spam referral links u\n"
     ]
    }
   ],
   "source": [
    "body_processed = train_df[\"body\"].apply(preprocess_text)\n",
    "rule_processed = train_df[\"rule\"].apply(preprocess_text)\n",
    "\n",
    "# 타겟 컬럼 분리\n",
    "X = body_processed + \" [RULE] \" + rule_processed\n",
    "y = train_df[\"rule_violation\"]\n",
    "\n",
    "# 테스트 데이터에도 동일한 전처리 적용\n",
    "body_processed_test = test_df[\"body\"].apply(preprocess_text)\n",
    "rule_processed_test = test_df[\"rule\"].apply(preprocess_text)\n",
    "\n",
    "X_test = body_processed_test + \" [RULE] \" + rule_processed_test\n",
    "\n",
    "# 전처리된 샘플 데이터를 확인합니다.\n",
    "print(f\"Processed data sample: {X.iloc[0][:100]}\")"
   ]
  },
  {
   "cell_type": "code",
   "execution_count": 12,
   "id": "2ba6aa87-710a-4256-b51e-d00917a07bba",
   "metadata": {},
   "outputs": [],
   "source": [
    "# 데이터 분할\n",
    "X_train, X_val, y_train, y_val = train_test_split(\n",
    "    X, y, test_size=0.2, random_state=42, stratify=y\n",
    ")"
   ]
  },
  {
   "cell_type": "code",
   "execution_count": 13,
   "id": "6c274c8e-71f1-44d2-9d93-0a15e80107d5",
   "metadata": {},
   "outputs": [
    {
     "name": "stdout",
     "output_type": "stream",
     "text": [
      "0       banks dont want you to know this click here to...\n",
      "1       sd stream [ eng link 1] [URL] [RULE] no advert...\n",
      "2       lol try appealing the ban and say you wont do ...\n",
      "3       she will come your home open her legs with and...\n",
      "4       code free tyrande [imgur][URL] for you and you...\n",
      "                              ...                        \n",
      "2024    please edit your post so it is readable these ...\n",
      "2025    yes and in a right to work state they can even...\n",
      "2026    hd streams eng hd[ watch herepc mobile ][URL] ...\n",
      "2027    no not when doing so obviously presents a safe...\n",
      "2028    ca is an at fault state so they will not be ab...\n",
      "Length: 2029, dtype: object\n"
     ]
    }
   ],
   "source": [
    "print(X)"
   ]
  },
  {
   "cell_type": "markdown",
   "id": "917f4a31-b7de-4510-bee8-1a260c4cc34b",
   "metadata": {},
   "source": [
    "## 성능 평가"
   ]
  },
  {
   "cell_type": "code",
   "execution_count": 14,
   "id": "d7e9a541-4151-4746-97cf-ebd0558dd71e",
   "metadata": {},
   "outputs": [
    {
     "name": "stdout",
     "output_type": "stream",
     "text": [
      "TF-IDF 벡터 shape:\n",
      "  Train: (1623, 2000)\n",
      "  Test: (406, 2000)\n"
     ]
    }
   ],
   "source": [
    "# TF-IDF 시행\n",
    "tfidf = TfidfVectorizer(\n",
    "    max_features=2000,\n",
    "    min_df=2,\n",
    "    max_df=0.8,\n",
    "    ngram_range=(1,3),\n",
    "    sublinear_tf=True,\n",
    "    use_idf=True\n",
    ")\n",
    "\n",
    "X_train_tfidf = tfidf.fit_transform(X_train)\n",
    "X_val_tfidf = tfidf.transform(X_val)\n",
    "\n",
    "print(f'TF-IDF 벡터 shape:')\n",
    "print(f'  Train: {X_train_tfidf.shape}')\n",
    "print(f'  Test: {X_val_tfidf.shape}')"
   ]
  },
  {
   "cell_type": "code",
   "execution_count": 15,
   "id": "701aa16a-d55f-4116-9e01-6400fd6b92a5",
   "metadata": {},
   "outputs": [
    {
     "name": "stdout",
     "output_type": "stream",
     "text": [
      "Model: Logistic Regression\n",
      "Train_accuracy: 0.848\n",
      "Val_accuracy: 0.751\n",
      "Val_f1_score: 0.767\n",
      "\n",
      "Model: LinearSVC\n",
      "Train_accuracy: 0.954\n",
      "Val_accuracy: 0.754\n",
      "Val_f1_score: 0.756\n",
      "\n",
      "Model: SGD-Log\n",
      "Train_accuracy: 0.942\n",
      "Val_accuracy: 0.754\n",
      "Val_f1_score: 0.760\n",
      "\n"
     ]
    }
   ],
   "source": [
    "from sklearn.linear_model import LogisticRegression, SGDClassifier\n",
    "from sklearn.ensemble import RandomForestClassifier\n",
    "from sklearn.naive_bayes import MultinomialNB\n",
    "from sklearn.svm import LinearSVC\n",
    "\n",
    "models_sklearn = {\n",
    "    \"Logistic Regression\": LogisticRegression(max_iter=2000, random_state=42, n_jobs=-1),\n",
    "    \"LinearSVC\": LinearSVC(class_weight=\"balanced\"),\n",
    "    \"SGD-Log\": SGDClassifier(loss=\"log_loss\", class_weight=\"balanced\", max_iter=2000, random_state=42, n_jobs=-1),\n",
    "}\n",
    "\n",
    "for name, sk_model in models_sklearn.items():\n",
    "    sk_model.fit(X_train_tfidf, y_train)\n",
    "    y_tr_pred = sk_model.predict(X_train_tfidf)\n",
    "    y_val_pred = sk_model.predict(X_val_tfidf)\n",
    "\n",
    "    train_accuracy = accuracy_score(y_train, y_tr_pred)\n",
    "    test_accuracy = accuracy_score(y_val, y_val_pred)\n",
    "    test_f1 = f1_score(y_val, y_val_pred)\n",
    "\n",
    "    print(f\"Model: {name}\")\n",
    "    print(f\"Train_accuracy: {train_accuracy:.3f}\")\n",
    "    print(f\"Val_accuracy: {test_accuracy:.3f}\")\n",
    "    print(f\"Val_f1_score: {test_f1:.3f}\")\n",
    "    print()"
   ]
  },
  {
   "cell_type": "markdown",
   "id": "6528a951-d152-4bd4-a589-051ab99477b3",
   "metadata": {},
   "source": [
    "## 토큰화"
   ]
  },
  {
   "cell_type": "markdown",
   "id": "1d4f6d3b-f276-4d77-bdae-63778648927b",
   "metadata": {},
   "source": [
    "사전학습 모델에 적용시키기 위해 데이터를 토큰화하는 작업을 진행합니다."
   ]
  },
  {
   "cell_type": "code",
   "execution_count": 16,
   "id": "56be20ea-2890-45a5-affa-a3c38c61c34e",
   "metadata": {},
   "outputs": [],
   "source": [
    "def finetune_model(model_name, X_train, y_train, X_val, y_val, epochs=1):\n",
    "    tokenizer = AutoTokenizer.from_pretrained(model_name)\n",
    "    model = AutoModelForSequenceClassification.from_pretrained(\n",
    "        model_name,\n",
    "        num_labels=2,\n",
    "        id2label={0:\"not_violation\", 1:\"violation\"},\n",
    "        label2id={\"not_violation\":0, \"violation\":1}\n",
    "    )\n",
    "\n",
    "    tok_tr = tokenizer(list(X_train), truncation=True, max_length=128)\n",
    "    tok_val = tokenizer(list(X_val), truncation=True, max_length=128)\n",
    "    \n",
    "    tok_tr[\"labels\"] = y_train.tolist()\n",
    "    tok_val[\"labels\"] = y_val.tolist()\n",
    "    \n",
    "    ds_tr = Dataset.from_dict(tok_tr)\n",
    "    ds_val = Dataset.from_dict(tok_val)\n",
    "\n",
    "    collator = DataCollatorWithPadding(tokenizer=tokenizer)\n",
    "\n",
    "    def metrics(p):\n",
    "        logits, labels = p\n",
    "        probs = torch.softmax(torch.tensor(logits), dim=-1)[:,1].numpy()\n",
    "        preds = (probs >= 0.5).astype(int)\n",
    "        return {\n",
    "            \"accuracy\":  accuracy_score(labels, preds),\n",
    "            \"f1\":        f1_score(labels, preds),\n",
    "            \"roc_auc\":   roc_auc_score(labels, probs),\n",
    "            \"pr_auc\":    average_precision_score(labels, probs),\n",
    "        }\n",
    "\n",
    "    args = TrainingArguments(\n",
    "        output_dir=f'{RESULTS_PATH}/{model_name.replace(\"/\", \"_\")}',\n",
    "        num_train_epochs=epochs,\n",
    "        per_device_train_batch_size=8, \n",
    "        per_device_eval_batch_size=16,\n",
    "        gradient_accumulation_steps=2,\n",
    "        learning_rate=3e-5,\n",
    "        eval_strategy='epoch', \n",
    "        save_strategy='epoch',   \n",
    "        load_best_model_at_end=True,\n",
    "        metric_for_best_model='f1',\n",
    "        weight_decay=0.01,\n",
    "        fp16=False,\n",
    "        logging_steps=100,\n",
    "        seed=42,\n",
    "        use_cpu=True,\n",
    "        no_cuda=True,\n",
    "        report_to='none',\n",
    "        disable_tqdm=False,\n",
    "    )\n",
    "    \n",
    "    trainer = Trainer(\n",
    "        model=model,\n",
    "        args=args,\n",
    "        train_dataset=ds_tr,\n",
    "        eval_dataset=ds_val,  \n",
    "        tokenizer=tokenizer,\n",
    "        data_collator=collator,\n",
    "        compute_metrics=metrics\n",
    "    )\n",
    "    \n",
    "    trainer.train()\n",
    "\n",
    "    pred = trainer.predict(ds_val)\n",
    "    probs = torch.softmax(torch.tensor(pred.predictions), dim=-1)[:,1].numpy()\n",
    "    preds = (probs >= 0.5).astype(int)\n",
    "    \n",
    "    return trainer, tokenizer, ds_val, probs, preds"
   ]
  },
  {
   "cell_type": "code",
   "execution_count": 17,
   "id": "6e98adc1-3647-4f90-8815-412a59ca9306",
   "metadata": {},
   "outputs": [
    {
     "name": "stderr",
     "output_type": "stream",
     "text": [
      "Some weights of RobertaForSequenceClassification were not initialized from the model checkpoint at distilroberta-base and are newly initialized: ['classifier.dense.bias', 'classifier.dense.weight', 'classifier.out_proj.bias', 'classifier.out_proj.weight']\n",
      "You should probably TRAIN this model on a down-stream task to be able to use it for predictions and inference.\n",
      "/opt/anaconda3/lib/python3.12/site-packages/transformers/training_args.py:1636: FutureWarning: using `no_cuda` is deprecated and will be removed in version 5.0 of 🤗 Transformers. Use `use_cpu` instead\n",
      "  warnings.warn(\n",
      "/var/folders/xl/hqfx0jqd111gpm_w0lswvptw0000gn/T/ipykernel_76447/3727839529.py:53: FutureWarning: `tokenizer` is deprecated and will be removed in version 5.0.0 for `Trainer.__init__`. Use `processing_class` instead.\n",
      "  trainer = Trainer(\n"
     ]
    },
    {
     "data": {
      "text/html": [
       "\n",
       "    <div>\n",
       "      \n",
       "      <progress value='306' max='306' style='width:300px; height:20px; vertical-align: middle;'></progress>\n",
       "      [306/306 07:01, Epoch 3/3]\n",
       "    </div>\n",
       "    <table border=\"1\" class=\"dataframe\">\n",
       "  <thead>\n",
       " <tr style=\"text-align: left;\">\n",
       "      <th>Epoch</th>\n",
       "      <th>Training Loss</th>\n",
       "      <th>Validation Loss</th>\n",
       "      <th>Accuracy</th>\n",
       "      <th>F1</th>\n",
       "      <th>Roc Auc</th>\n",
       "      <th>Pr Auc</th>\n",
       "    </tr>\n",
       "  </thead>\n",
       "  <tbody>\n",
       "    <tr>\n",
       "      <td>1</td>\n",
       "      <td>0.636300</td>\n",
       "      <td>0.657542</td>\n",
       "      <td>0.674877</td>\n",
       "      <td>0.597561</td>\n",
       "      <td>0.820485</td>\n",
       "      <td>0.818123</td>\n",
       "    </tr>\n",
       "    <tr>\n",
       "      <td>2</td>\n",
       "      <td>0.457800</td>\n",
       "      <td>0.426182</td>\n",
       "      <td>0.802956</td>\n",
       "      <td>0.811321</td>\n",
       "      <td>0.888932</td>\n",
       "      <td>0.896025</td>\n",
       "    </tr>\n",
       "    <tr>\n",
       "      <td>3</td>\n",
       "      <td>0.356700</td>\n",
       "      <td>0.446559</td>\n",
       "      <td>0.807882</td>\n",
       "      <td>0.814286</td>\n",
       "      <td>0.889102</td>\n",
       "      <td>0.894935</td>\n",
       "    </tr>\n",
       "  </tbody>\n",
       "</table><p>"
      ],
      "text/plain": [
       "<IPython.core.display.HTML object>"
      ]
     },
     "metadata": {},
     "output_type": "display_data"
    },
    {
     "data": {
      "text/html": [],
      "text/plain": [
       "<IPython.core.display.HTML object>"
      ]
     },
     "metadata": {},
     "output_type": "display_data"
    },
    {
     "name": "stdout",
     "output_type": "stream",
     "text": [
      "Model: distilroberta-base\n",
      " - F1: 0.8143\n",
      " - Accuracy: 0.8079\n",
      " - ROC-AUC: 0.8075\n"
     ]
    },
    {
     "name": "stderr",
     "output_type": "stream",
     "text": [
      "Some weights of BertForSequenceClassification were not initialized from the model checkpoint at bert-base-uncased and are newly initialized: ['classifier.bias', 'classifier.weight']\n",
      "You should probably TRAIN this model on a down-stream task to be able to use it for predictions and inference.\n",
      "/opt/anaconda3/lib/python3.12/site-packages/transformers/training_args.py:1636: FutureWarning: using `no_cuda` is deprecated and will be removed in version 5.0 of 🤗 Transformers. Use `use_cpu` instead\n",
      "  warnings.warn(\n",
      "/var/folders/xl/hqfx0jqd111gpm_w0lswvptw0000gn/T/ipykernel_76447/3727839529.py:53: FutureWarning: `tokenizer` is deprecated and will be removed in version 5.0.0 for `Trainer.__init__`. Use `processing_class` instead.\n",
      "  trainer = Trainer(\n"
     ]
    },
    {
     "data": {
      "text/html": [
       "\n",
       "    <div>\n",
       "      \n",
       "      <progress value='306' max='306' style='width:300px; height:20px; vertical-align: middle;'></progress>\n",
       "      [306/306 13:29, Epoch 3/3]\n",
       "    </div>\n",
       "    <table border=\"1\" class=\"dataframe\">\n",
       "  <thead>\n",
       " <tr style=\"text-align: left;\">\n",
       "      <th>Epoch</th>\n",
       "      <th>Training Loss</th>\n",
       "      <th>Validation Loss</th>\n",
       "      <th>Accuracy</th>\n",
       "      <th>F1</th>\n",
       "      <th>Roc Auc</th>\n",
       "      <th>Pr Auc</th>\n",
       "    </tr>\n",
       "  </thead>\n",
       "  <tbody>\n",
       "    <tr>\n",
       "      <td>1</td>\n",
       "      <td>0.654300</td>\n",
       "      <td>0.566654</td>\n",
       "      <td>0.694581</td>\n",
       "      <td>0.740586</td>\n",
       "      <td>0.806408</td>\n",
       "      <td>0.809173</td>\n",
       "    </tr>\n",
       "    <tr>\n",
       "      <td>2</td>\n",
       "      <td>0.523500</td>\n",
       "      <td>0.478174</td>\n",
       "      <td>0.778325</td>\n",
       "      <td>0.801762</td>\n",
       "      <td>0.866238</td>\n",
       "      <td>0.870502</td>\n",
       "    </tr>\n",
       "    <tr>\n",
       "      <td>3</td>\n",
       "      <td>0.380400</td>\n",
       "      <td>0.450988</td>\n",
       "      <td>0.800493</td>\n",
       "      <td>0.796992</td>\n",
       "      <td>0.875534</td>\n",
       "      <td>0.881406</td>\n",
       "    </tr>\n",
       "  </tbody>\n",
       "</table><p>"
      ],
      "text/plain": [
       "<IPython.core.display.HTML object>"
      ]
     },
     "metadata": {},
     "output_type": "display_data"
    },
    {
     "data": {
      "text/html": [],
      "text/plain": [
       "<IPython.core.display.HTML object>"
      ]
     },
     "metadata": {},
     "output_type": "display_data"
    },
    {
     "name": "stdout",
     "output_type": "stream",
     "text": [
      "Model: bert-base-uncased\n",
      " - F1: 0.8018\n",
      " - Accuracy: 0.7783\n",
      " - ROC-AUC: 0.7767\n"
     ]
    },
    {
     "name": "stderr",
     "output_type": "stream",
     "text": [
      "Some weights of DistilBertForSequenceClassification were not initialized from the model checkpoint at distilbert-base-uncased and are newly initialized: ['classifier.bias', 'classifier.weight', 'pre_classifier.bias', 'pre_classifier.weight']\n",
      "You should probably TRAIN this model on a down-stream task to be able to use it for predictions and inference.\n",
      "/opt/anaconda3/lib/python3.12/site-packages/transformers/training_args.py:1636: FutureWarning: using `no_cuda` is deprecated and will be removed in version 5.0 of 🤗 Transformers. Use `use_cpu` instead\n",
      "  warnings.warn(\n",
      "/var/folders/xl/hqfx0jqd111gpm_w0lswvptw0000gn/T/ipykernel_76447/3727839529.py:53: FutureWarning: `tokenizer` is deprecated and will be removed in version 5.0.0 for `Trainer.__init__`. Use `processing_class` instead.\n",
      "  trainer = Trainer(\n"
     ]
    },
    {
     "data": {
      "text/html": [
       "\n",
       "    <div>\n",
       "      \n",
       "      <progress value='306' max='306' style='width:300px; height:20px; vertical-align: middle;'></progress>\n",
       "      [306/306 06:15, Epoch 3/3]\n",
       "    </div>\n",
       "    <table border=\"1\" class=\"dataframe\">\n",
       "  <thead>\n",
       " <tr style=\"text-align: left;\">\n",
       "      <th>Epoch</th>\n",
       "      <th>Training Loss</th>\n",
       "      <th>Validation Loss</th>\n",
       "      <th>Accuracy</th>\n",
       "      <th>F1</th>\n",
       "      <th>Roc Auc</th>\n",
       "      <th>Pr Auc</th>\n",
       "    </tr>\n",
       "  </thead>\n",
       "  <tbody>\n",
       "    <tr>\n",
       "      <td>1</td>\n",
       "      <td>0.641100</td>\n",
       "      <td>0.546046</td>\n",
       "      <td>0.719212</td>\n",
       "      <td>0.761506</td>\n",
       "      <td>0.803835</td>\n",
       "      <td>0.795592</td>\n",
       "    </tr>\n",
       "    <tr>\n",
       "      <td>2</td>\n",
       "      <td>0.472400</td>\n",
       "      <td>0.481119</td>\n",
       "      <td>0.761084</td>\n",
       "      <td>0.758105</td>\n",
       "      <td>0.853131</td>\n",
       "      <td>0.844643</td>\n",
       "    </tr>\n",
       "    <tr>\n",
       "      <td>3</td>\n",
       "      <td>0.339400</td>\n",
       "      <td>0.497732</td>\n",
       "      <td>0.756158</td>\n",
       "      <td>0.759124</td>\n",
       "      <td>0.854709</td>\n",
       "      <td>0.850061</td>\n",
       "    </tr>\n",
       "  </tbody>\n",
       "</table><p>"
      ],
      "text/plain": [
       "<IPython.core.display.HTML object>"
      ]
     },
     "metadata": {},
     "output_type": "display_data"
    },
    {
     "data": {
      "text/html": [],
      "text/plain": [
       "<IPython.core.display.HTML object>"
      ]
     },
     "metadata": {},
     "output_type": "display_data"
    },
    {
     "name": "stdout",
     "output_type": "stream",
     "text": [
      "Model: distilbert-base-uncased\n",
      " - F1: 0.7615\n",
      " - Accuracy: 0.7192\n",
      " - ROC-AUC: 0.7167\n"
     ]
    }
   ],
   "source": [
    "# 사전학습 모델로 성능을 테스트합니다.\n",
    "transformer_model_ids = [\n",
    "    \"distilroberta-base\",\n",
    "    \"bert-base-uncased\",\n",
    "    \"distilbert-base-uncased\",\n",
    "]\n",
    "\n",
    "results = {}\n",
    "\n",
    "for tf_model in transformer_model_ids:\n",
    "    trainer, tokenizer, ds_val, probs, preds = finetune_model(\n",
    "    tf_model, X_train, y_train, X_val, y_val, epochs=3\n",
    ")\n",
    "    results[tf_model] = {\n",
    "        'f1': f1_score(y_val, preds),\n",
    "        'accuracy': accuracy_score(y_val, preds),\n",
    "        'roc_auc': roc_auc_score(y_val, preds)\n",
    "    }\n",
    "    \n",
    "    print(f\"Model: {tf_model}\")\n",
    "    print(f\" - F1: {results[tf_model]['f1']:.4f}\")\n",
    "    print(f\" - Accuracy: {results[tf_model]['accuracy']:.4f}\")\n",
    "    print(f\" - ROC-AUC: {results[tf_model]['roc_auc']:.4f}\")"
   ]
  },
  {
   "cell_type": "markdown",
   "id": "4821f193-f077-4814-83dd-d863f5e4e169",
   "metadata": {},
   "source": [
    "## 테스트 데이터셋 확률 예측"
   ]
  },
  {
   "cell_type": "code",
   "execution_count": null,
   "id": "eac9e142-5957-442f-af34-afb85bdec8dc",
   "metadata": {},
   "outputs": [],
   "source": []
  },
  {
   "cell_type": "code",
   "execution_count": null,
   "id": "3b9c6242-ba5e-4e7a-a734-2a137bb8f5d7",
   "metadata": {},
   "outputs": [],
   "source": []
  },
  {
   "cell_type": "code",
   "execution_count": null,
   "id": "388e6ca7-2eee-4d74-9c50-de5d66b70855",
   "metadata": {},
   "outputs": [],
   "source": []
  },
  {
   "cell_type": "markdown",
   "id": "60009356-a7ca-4cc3-9cb5-7aef6ada0674",
   "metadata": {},
   "source": [
    "## 제출"
   ]
  },
  {
   "cell_type": "code",
   "execution_count": null,
   "id": "6e931452-4f61-4013-b4d2-6a70910948c2",
   "metadata": {},
   "outputs": [],
   "source": []
  }
 ],
 "metadata": {
  "kernelspec": {
   "display_name": "Python [conda env:base] *",
   "language": "python",
   "name": "conda-base-py"
  },
  "language_info": {
   "codemirror_mode": {
    "name": "ipython",
    "version": 3
   },
   "file_extension": ".py",
   "mimetype": "text/x-python",
   "name": "python",
   "nbconvert_exporter": "python",
   "pygments_lexer": "ipython3",
   "version": "3.12.2"
  }
 },
 "nbformat": 4,
 "nbformat_minor": 5
}
